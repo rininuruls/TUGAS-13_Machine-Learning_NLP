{
  "cells": [
    {
      "cell_type": "code",
      "execution_count": 17,
      "metadata": {
        "colab": {
          "base_uri": "https://localhost:8080/"
        },
        "id": "N16eY9z8dRb-",
        "outputId": "c4ee2634-8a82-4572-b58b-bf9e7cc3b82f"
      },
      "outputs": [
        {
          "output_type": "stream",
          "name": "stdout",
          "text": [
            "yuk belajar bersama.\n"
          ]
        }
      ],
      "source": [
        "import re\n",
        "\n",
        "def remove_numbers(text):\n",
        "    return re.sub(r'\\d+', '', text)\n",
        "\n",
        "# Contoh penggunaan\n",
        "sample_text = \"yuk belajar bersama.\"\n",
        "print(remove_numbers(sample_text))\n"
      ]
    },
    {
      "cell_type": "code",
      "execution_count": 18,
      "metadata": {
        "colab": {
          "base_uri": "https://localhost:8080/"
        },
        "id": "_cJIwqE-dc1A",
        "outputId": "92bb94d5-48aa-4e54-d89b-d521a5342b06"
      },
      "outputs": [
        {
          "output_type": "stream",
          "name": "stdout",
          "text": [
            "['This', 'is', 'an', 'example', 'sentence', '.']\n"
          ]
        },
        {
          "output_type": "stream",
          "name": "stderr",
          "text": [
            "[nltk_data] Downloading package punkt_tab to /root/nltk_data...\n",
            "[nltk_data]   Package punkt_tab is already up-to-date!\n"
          ]
        }
      ],
      "source": [
        "from nltk.tokenize import word_tokenize\n",
        "import nltk\n",
        "\n",
        "nltk.download('punkt_tab')\n",
        "\n",
        "def tokenize(text):\n",
        "    return word_tokenize(text)\n",
        "\n",
        "# Contoh penggunaan\n",
        "sample_text = \"This is an example sentence.\"\n",
        "print(tokenize(sample_text))\n"
      ]
    },
    {
      "cell_type": "code",
      "execution_count": 19,
      "metadata": {
        "colab": {
          "base_uri": "https://localhost:8080/"
        },
        "id": "gcbsxqv8etEQ",
        "outputId": "33061479-0b6e-4437-bc8e-1b45163f4162"
      },
      "outputs": [
        {
          "output_type": "stream",
          "name": "stdout",
          "text": [
            "['This', 'example', 'showing', 'stopwords', 'removal', '.']\n"
          ]
        },
        {
          "output_type": "stream",
          "name": "stderr",
          "text": [
            "[nltk_data] Downloading package stopwords to /root/nltk_data...\n",
            "[nltk_data]   Package stopwords is already up-to-date!\n"
          ]
        }
      ],
      "source": [
        "from nltk.corpus import stopwords\n",
        "\n",
        "nltk.download('stopwords')\n",
        "\n",
        "def remove_stopwords(words):\n",
        "    stop_words = set(stopwords.words('english'))\n",
        "    return [word for word in words if word not in stop_words]\n",
        "\n",
        "# Contoh penggunaan\n",
        "sample_text = \"This is an example showing stopwords removal.\"\n",
        "tokenized_text = tokenize(sample_text)\n",
        "print(remove_stopwords(tokenized_text))\n"
      ]
    },
    {
      "cell_type": "code",
      "execution_count": 20,
      "metadata": {
        "colab": {
          "base_uri": "https://localhost:8080/"
        },
        "id": "uBkU5DCgfOZc",
        "outputId": "ae633faa-447d-4d5c-9845-70ed867bf0a4"
      },
      "outputs": [
        {
          "output_type": "stream",
          "name": "stdout",
          "text": [
            "['thi', 'exampl', 'show', 'stem', 'word', '.']\n"
          ]
        }
      ],
      "source": [
        "from nltk.stem import PorterStemmer\n",
        "\n",
        "def stem_words(words):\n",
        "    ps = PorterStemmer()\n",
        "    return [ps.stem(word) for word in words]\n",
        "\n",
        "# Contoh penggunaan\n",
        "sample_text = \"This is an example showing stemming of words.\"\n",
        "tokenized_text = tokenize(sample_text)\n",
        "filtered_words = remove_stopwords(tokenized_text)\n",
        "print(stem_words(filtered_words))\n"
      ]
    },
    {
      "cell_type": "code",
      "execution_count": 21,
      "metadata": {
        "id": "m8n5VQsUgWXp"
      },
      "outputs": [],
      "source": [
        "sentence1 = \"I love football\"\n",
        "sentence2 = \"Messi is a great football player\"\n",
        "sentence3 = \"Messi has won seven Ballon d’Or awards \""
      ]
    },
    {
      "cell_type": "code",
      "execution_count": 22,
      "metadata": {
        "colab": {
          "base_uri": "https://localhost:8080/"
        },
        "id": "tcb96JN0goyX",
        "outputId": "33e49a36-3a66-4f5b-f825-dd282209d95d"
      },
      "outputs": [
        {
          "output_type": "stream",
          "name": "stdout",
          "text": [
            "['I love football', 'Messi is a great football player', 'Messi has won seven Ballon d’Or awards ']\n"
          ]
        }
      ],
      "source": [
        "import pandas as pd\n",
        "from sklearn.feature_extraction.text import CountVectorizer\n",
        "docs = [sentence1, sentence2, sentence3]\n",
        "print(docs)"
      ]
    },
    {
      "cell_type": "code",
      "execution_count": 23,
      "metadata": {
        "colab": {
          "base_uri": "https://localhost:8080/",
          "height": 143
        },
        "id": "qncwNZRXg1l1",
        "outputId": "30c5d98e-ed58-4244-f32f-2399a7b7c8cf"
      },
      "outputs": [
        {
          "output_type": "execute_result",
          "data": {
            "text/plain": [
              "   awards  ballon  football  great  has  is  love  messi  or  player  seven  \\\n",
              "0       0       0         1      0    0   0     1      0   0       0      0   \n",
              "1       0       0         1      1    0   1     0      1   0       1      0   \n",
              "2       1       1         0      0    1   0     0      1   1       0      1   \n",
              "\n",
              "   won  \n",
              "0    0  \n",
              "1    0  \n",
              "2    1  "
            ],
            "text/html": [
              "\n",
              "  <div id=\"df-e497bddf-cff6-4632-8269-5cb1208b0986\" class=\"colab-df-container\">\n",
              "    <div>\n",
              "<style scoped>\n",
              "    .dataframe tbody tr th:only-of-type {\n",
              "        vertical-align: middle;\n",
              "    }\n",
              "\n",
              "    .dataframe tbody tr th {\n",
              "        vertical-align: top;\n",
              "    }\n",
              "\n",
              "    .dataframe thead th {\n",
              "        text-align: right;\n",
              "    }\n",
              "</style>\n",
              "<table border=\"1\" class=\"dataframe\">\n",
              "  <thead>\n",
              "    <tr style=\"text-align: right;\">\n",
              "      <th></th>\n",
              "      <th>awards</th>\n",
              "      <th>ballon</th>\n",
              "      <th>football</th>\n",
              "      <th>great</th>\n",
              "      <th>has</th>\n",
              "      <th>is</th>\n",
              "      <th>love</th>\n",
              "      <th>messi</th>\n",
              "      <th>or</th>\n",
              "      <th>player</th>\n",
              "      <th>seven</th>\n",
              "      <th>won</th>\n",
              "    </tr>\n",
              "  </thead>\n",
              "  <tbody>\n",
              "    <tr>\n",
              "      <th>0</th>\n",
              "      <td>0</td>\n",
              "      <td>0</td>\n",
              "      <td>1</td>\n",
              "      <td>0</td>\n",
              "      <td>0</td>\n",
              "      <td>0</td>\n",
              "      <td>1</td>\n",
              "      <td>0</td>\n",
              "      <td>0</td>\n",
              "      <td>0</td>\n",
              "      <td>0</td>\n",
              "      <td>0</td>\n",
              "    </tr>\n",
              "    <tr>\n",
              "      <th>1</th>\n",
              "      <td>0</td>\n",
              "      <td>0</td>\n",
              "      <td>1</td>\n",
              "      <td>1</td>\n",
              "      <td>0</td>\n",
              "      <td>1</td>\n",
              "      <td>0</td>\n",
              "      <td>1</td>\n",
              "      <td>0</td>\n",
              "      <td>1</td>\n",
              "      <td>0</td>\n",
              "      <td>0</td>\n",
              "    </tr>\n",
              "    <tr>\n",
              "      <th>2</th>\n",
              "      <td>1</td>\n",
              "      <td>1</td>\n",
              "      <td>0</td>\n",
              "      <td>0</td>\n",
              "      <td>1</td>\n",
              "      <td>0</td>\n",
              "      <td>0</td>\n",
              "      <td>1</td>\n",
              "      <td>1</td>\n",
              "      <td>0</td>\n",
              "      <td>1</td>\n",
              "      <td>1</td>\n",
              "    </tr>\n",
              "  </tbody>\n",
              "</table>\n",
              "</div>\n",
              "    <div class=\"colab-df-buttons\">\n",
              "\n",
              "  <div class=\"colab-df-container\">\n",
              "    <button class=\"colab-df-convert\" onclick=\"convertToInteractive('df-e497bddf-cff6-4632-8269-5cb1208b0986')\"\n",
              "            title=\"Convert this dataframe to an interactive table.\"\n",
              "            style=\"display:none;\">\n",
              "\n",
              "  <svg xmlns=\"http://www.w3.org/2000/svg\" height=\"24px\" viewBox=\"0 -960 960 960\">\n",
              "    <path d=\"M120-120v-720h720v720H120Zm60-500h600v-160H180v160Zm220 220h160v-160H400v160Zm0 220h160v-160H400v160ZM180-400h160v-160H180v160Zm440 0h160v-160H620v160ZM180-180h160v-160H180v160Zm440 0h160v-160H620v160Z\"/>\n",
              "  </svg>\n",
              "    </button>\n",
              "\n",
              "  <style>\n",
              "    .colab-df-container {\n",
              "      display:flex;\n",
              "      gap: 12px;\n",
              "    }\n",
              "\n",
              "    .colab-df-convert {\n",
              "      background-color: #E8F0FE;\n",
              "      border: none;\n",
              "      border-radius: 50%;\n",
              "      cursor: pointer;\n",
              "      display: none;\n",
              "      fill: #1967D2;\n",
              "      height: 32px;\n",
              "      padding: 0 0 0 0;\n",
              "      width: 32px;\n",
              "    }\n",
              "\n",
              "    .colab-df-convert:hover {\n",
              "      background-color: #E2EBFA;\n",
              "      box-shadow: 0px 1px 2px rgba(60, 64, 67, 0.3), 0px 1px 3px 1px rgba(60, 64, 67, 0.15);\n",
              "      fill: #174EA6;\n",
              "    }\n",
              "\n",
              "    .colab-df-buttons div {\n",
              "      margin-bottom: 4px;\n",
              "    }\n",
              "\n",
              "    [theme=dark] .colab-df-convert {\n",
              "      background-color: #3B4455;\n",
              "      fill: #D2E3FC;\n",
              "    }\n",
              "\n",
              "    [theme=dark] .colab-df-convert:hover {\n",
              "      background-color: #434B5C;\n",
              "      box-shadow: 0px 1px 3px 1px rgba(0, 0, 0, 0.15);\n",
              "      filter: drop-shadow(0px 1px 2px rgba(0, 0, 0, 0.3));\n",
              "      fill: #FFFFFF;\n",
              "    }\n",
              "  </style>\n",
              "\n",
              "    <script>\n",
              "      const buttonEl =\n",
              "        document.querySelector('#df-e497bddf-cff6-4632-8269-5cb1208b0986 button.colab-df-convert');\n",
              "      buttonEl.style.display =\n",
              "        google.colab.kernel.accessAllowed ? 'block' : 'none';\n",
              "\n",
              "      async function convertToInteractive(key) {\n",
              "        const element = document.querySelector('#df-e497bddf-cff6-4632-8269-5cb1208b0986');\n",
              "        const dataTable =\n",
              "          await google.colab.kernel.invokeFunction('convertToInteractive',\n",
              "                                                    [key], {});\n",
              "        if (!dataTable) return;\n",
              "\n",
              "        const docLinkHtml = 'Like what you see? Visit the ' +\n",
              "          '<a target=\"_blank\" href=https://colab.research.google.com/notebooks/data_table.ipynb>data table notebook</a>'\n",
              "          + ' to learn more about interactive tables.';\n",
              "        element.innerHTML = '';\n",
              "        dataTable['output_type'] = 'display_data';\n",
              "        await google.colab.output.renderOutput(dataTable, element);\n",
              "        const docLink = document.createElement('div');\n",
              "        docLink.innerHTML = docLinkHtml;\n",
              "        element.appendChild(docLink);\n",
              "      }\n",
              "    </script>\n",
              "  </div>\n",
              "\n",
              "\n",
              "    <div id=\"df-443db567-5cce-4919-b7e0-1a12a1dd788d\">\n",
              "      <button class=\"colab-df-quickchart\" onclick=\"quickchart('df-443db567-5cce-4919-b7e0-1a12a1dd788d')\"\n",
              "                title=\"Suggest charts\"\n",
              "                style=\"display:none;\">\n",
              "\n",
              "<svg xmlns=\"http://www.w3.org/2000/svg\" height=\"24px\"viewBox=\"0 0 24 24\"\n",
              "     width=\"24px\">\n",
              "    <g>\n",
              "        <path d=\"M19 3H5c-1.1 0-2 .9-2 2v14c0 1.1.9 2 2 2h14c1.1 0 2-.9 2-2V5c0-1.1-.9-2-2-2zM9 17H7v-7h2v7zm4 0h-2V7h2v10zm4 0h-2v-4h2v4z\"/>\n",
              "    </g>\n",
              "</svg>\n",
              "      </button>\n",
              "\n",
              "<style>\n",
              "  .colab-df-quickchart {\n",
              "      --bg-color: #E8F0FE;\n",
              "      --fill-color: #1967D2;\n",
              "      --hover-bg-color: #E2EBFA;\n",
              "      --hover-fill-color: #174EA6;\n",
              "      --disabled-fill-color: #AAA;\n",
              "      --disabled-bg-color: #DDD;\n",
              "  }\n",
              "\n",
              "  [theme=dark] .colab-df-quickchart {\n",
              "      --bg-color: #3B4455;\n",
              "      --fill-color: #D2E3FC;\n",
              "      --hover-bg-color: #434B5C;\n",
              "      --hover-fill-color: #FFFFFF;\n",
              "      --disabled-bg-color: #3B4455;\n",
              "      --disabled-fill-color: #666;\n",
              "  }\n",
              "\n",
              "  .colab-df-quickchart {\n",
              "    background-color: var(--bg-color);\n",
              "    border: none;\n",
              "    border-radius: 50%;\n",
              "    cursor: pointer;\n",
              "    display: none;\n",
              "    fill: var(--fill-color);\n",
              "    height: 32px;\n",
              "    padding: 0;\n",
              "    width: 32px;\n",
              "  }\n",
              "\n",
              "  .colab-df-quickchart:hover {\n",
              "    background-color: var(--hover-bg-color);\n",
              "    box-shadow: 0 1px 2px rgba(60, 64, 67, 0.3), 0 1px 3px 1px rgba(60, 64, 67, 0.15);\n",
              "    fill: var(--button-hover-fill-color);\n",
              "  }\n",
              "\n",
              "  .colab-df-quickchart-complete:disabled,\n",
              "  .colab-df-quickchart-complete:disabled:hover {\n",
              "    background-color: var(--disabled-bg-color);\n",
              "    fill: var(--disabled-fill-color);\n",
              "    box-shadow: none;\n",
              "  }\n",
              "\n",
              "  .colab-df-spinner {\n",
              "    border: 2px solid var(--fill-color);\n",
              "    border-color: transparent;\n",
              "    border-bottom-color: var(--fill-color);\n",
              "    animation:\n",
              "      spin 1s steps(1) infinite;\n",
              "  }\n",
              "\n",
              "  @keyframes spin {\n",
              "    0% {\n",
              "      border-color: transparent;\n",
              "      border-bottom-color: var(--fill-color);\n",
              "      border-left-color: var(--fill-color);\n",
              "    }\n",
              "    20% {\n",
              "      border-color: transparent;\n",
              "      border-left-color: var(--fill-color);\n",
              "      border-top-color: var(--fill-color);\n",
              "    }\n",
              "    30% {\n",
              "      border-color: transparent;\n",
              "      border-left-color: var(--fill-color);\n",
              "      border-top-color: var(--fill-color);\n",
              "      border-right-color: var(--fill-color);\n",
              "    }\n",
              "    40% {\n",
              "      border-color: transparent;\n",
              "      border-right-color: var(--fill-color);\n",
              "      border-top-color: var(--fill-color);\n",
              "    }\n",
              "    60% {\n",
              "      border-color: transparent;\n",
              "      border-right-color: var(--fill-color);\n",
              "    }\n",
              "    80% {\n",
              "      border-color: transparent;\n",
              "      border-right-color: var(--fill-color);\n",
              "      border-bottom-color: var(--fill-color);\n",
              "    }\n",
              "    90% {\n",
              "      border-color: transparent;\n",
              "      border-bottom-color: var(--fill-color);\n",
              "    }\n",
              "  }\n",
              "</style>\n",
              "\n",
              "      <script>\n",
              "        async function quickchart(key) {\n",
              "          const quickchartButtonEl =\n",
              "            document.querySelector('#' + key + ' button');\n",
              "          quickchartButtonEl.disabled = true;  // To prevent multiple clicks.\n",
              "          quickchartButtonEl.classList.add('colab-df-spinner');\n",
              "          try {\n",
              "            const charts = await google.colab.kernel.invokeFunction(\n",
              "                'suggestCharts', [key], {});\n",
              "          } catch (error) {\n",
              "            console.error('Error during call to suggestCharts:', error);\n",
              "          }\n",
              "          quickchartButtonEl.classList.remove('colab-df-spinner');\n",
              "          quickchartButtonEl.classList.add('colab-df-quickchart-complete');\n",
              "        }\n",
              "        (() => {\n",
              "          let quickchartButtonEl =\n",
              "            document.querySelector('#df-443db567-5cce-4919-b7e0-1a12a1dd788d button');\n",
              "          quickchartButtonEl.style.display =\n",
              "            google.colab.kernel.accessAllowed ? 'block' : 'none';\n",
              "        })();\n",
              "      </script>\n",
              "    </div>\n",
              "\n",
              "    </div>\n",
              "  </div>\n"
            ],
            "application/vnd.google.colaboratory.intrinsic+json": {
              "type": "dataframe",
              "variable_name": "df",
              "summary": "{\n  \"name\": \"df\",\n  \"rows\": 3,\n  \"fields\": [\n    {\n      \"column\": \"awards\",\n      \"properties\": {\n        \"dtype\": \"number\",\n        \"std\": 0,\n        \"min\": 0,\n        \"max\": 1,\n        \"num_unique_values\": 2,\n        \"samples\": [\n          1,\n          0\n        ],\n        \"semantic_type\": \"\",\n        \"description\": \"\"\n      }\n    },\n    {\n      \"column\": \"ballon\",\n      \"properties\": {\n        \"dtype\": \"number\",\n        \"std\": 0,\n        \"min\": 0,\n        \"max\": 1,\n        \"num_unique_values\": 2,\n        \"samples\": [\n          1,\n          0\n        ],\n        \"semantic_type\": \"\",\n        \"description\": \"\"\n      }\n    },\n    {\n      \"column\": \"football\",\n      \"properties\": {\n        \"dtype\": \"number\",\n        \"std\": 0,\n        \"min\": 0,\n        \"max\": 1,\n        \"num_unique_values\": 2,\n        \"samples\": [\n          0,\n          1\n        ],\n        \"semantic_type\": \"\",\n        \"description\": \"\"\n      }\n    },\n    {\n      \"column\": \"great\",\n      \"properties\": {\n        \"dtype\": \"number\",\n        \"std\": 0,\n        \"min\": 0,\n        \"max\": 1,\n        \"num_unique_values\": 2,\n        \"samples\": [\n          1,\n          0\n        ],\n        \"semantic_type\": \"\",\n        \"description\": \"\"\n      }\n    },\n    {\n      \"column\": \"has\",\n      \"properties\": {\n        \"dtype\": \"number\",\n        \"std\": 0,\n        \"min\": 0,\n        \"max\": 1,\n        \"num_unique_values\": 2,\n        \"samples\": [\n          1,\n          0\n        ],\n        \"semantic_type\": \"\",\n        \"description\": \"\"\n      }\n    },\n    {\n      \"column\": \"is\",\n      \"properties\": {\n        \"dtype\": \"number\",\n        \"std\": 0,\n        \"min\": 0,\n        \"max\": 1,\n        \"num_unique_values\": 2,\n        \"samples\": [\n          1,\n          0\n        ],\n        \"semantic_type\": \"\",\n        \"description\": \"\"\n      }\n    },\n    {\n      \"column\": \"love\",\n      \"properties\": {\n        \"dtype\": \"number\",\n        \"std\": 0,\n        \"min\": 0,\n        \"max\": 1,\n        \"num_unique_values\": 2,\n        \"samples\": [\n          0,\n          1\n        ],\n        \"semantic_type\": \"\",\n        \"description\": \"\"\n      }\n    },\n    {\n      \"column\": \"messi\",\n      \"properties\": {\n        \"dtype\": \"number\",\n        \"std\": 0,\n        \"min\": 0,\n        \"max\": 1,\n        \"num_unique_values\": 2,\n        \"samples\": [\n          1,\n          0\n        ],\n        \"semantic_type\": \"\",\n        \"description\": \"\"\n      }\n    },\n    {\n      \"column\": \"or\",\n      \"properties\": {\n        \"dtype\": \"number\",\n        \"std\": 0,\n        \"min\": 0,\n        \"max\": 1,\n        \"num_unique_values\": 2,\n        \"samples\": [\n          1,\n          0\n        ],\n        \"semantic_type\": \"\",\n        \"description\": \"\"\n      }\n    },\n    {\n      \"column\": \"player\",\n      \"properties\": {\n        \"dtype\": \"number\",\n        \"std\": 0,\n        \"min\": 0,\n        \"max\": 1,\n        \"num_unique_values\": 2,\n        \"samples\": [\n          1,\n          0\n        ],\n        \"semantic_type\": \"\",\n        \"description\": \"\"\n      }\n    },\n    {\n      \"column\": \"seven\",\n      \"properties\": {\n        \"dtype\": \"number\",\n        \"std\": 0,\n        \"min\": 0,\n        \"max\": 1,\n        \"num_unique_values\": 2,\n        \"samples\": [\n          1,\n          0\n        ],\n        \"semantic_type\": \"\",\n        \"description\": \"\"\n      }\n    },\n    {\n      \"column\": \"won\",\n      \"properties\": {\n        \"dtype\": \"number\",\n        \"std\": 0,\n        \"min\": 0,\n        \"max\": 1,\n        \"num_unique_values\": 2,\n        \"samples\": [\n          1,\n          0\n        ],\n        \"semantic_type\": \"\",\n        \"description\": \"\"\n      }\n    }\n  ]\n}"
            }
          },
          "metadata": {},
          "execution_count": 23
        }
      ],
      "source": [
        "#Mendefinisikan dan menyesuaikan count vectorizer pada dokumen.\n",
        "\n",
        "vec = CountVectorizer()\n",
        "X = vec.fit_transform(docs)\n",
        "#Mengonversi vektor pada DataFrame menggunakan pandas\n",
        "\n",
        "df = pd.DataFrame(X.toarray(),\n",
        "    columns=vec.get_feature_names_out())\n",
        "df.head()"
      ]
    },
    {
      "cell_type": "code",
      "execution_count": 24,
      "metadata": {
        "colab": {
          "base_uri": "https://localhost:8080/"
        },
        "id": "nN06ffX_M49M",
        "outputId": "bccda26a-979e-4a4d-afdd-ba0866f8310b"
      },
      "outputs": [
        {
          "output_type": "stream",
          "name": "stdout",
          "text": [
            "Term Frequency (TF):\n",
            "Document 1 TF:\n",
            "    the: 0.2222\n",
            "    quick: 0.1111\n",
            "    brown: 0.1111\n",
            "    fox: 0.1111\n",
            "    jumps: 0.1111\n",
            "    over: 0.1111\n",
            "    lazy: 0.1111\n",
            "    dog: 0.1111\n",
            "Document 2 TF:\n",
            "    the: 0.2857\n",
            "    lazy: 0.1429\n",
            "    dog: 0.1429\n",
            "    sleeps: 0.1429\n",
            "    in: 0.1429\n",
            "    sun: 0.1429\n"
          ]
        }
      ],
      "source": [
        "import numpy as np\n",
        "from collections import Counter\n",
        "from math import log\n",
        "\n",
        "# Tiga dokumen dalam korpus\n",
        "documents = [\n",
        "    \"The quick brown fox jumps over the lazy dog\",\n",
        "    \"The lazy dog sleeps in the sun\"\n",
        "    ]\n",
        "\n",
        "# Preprocessing: Lowercasing and tokenizing\n",
        "tokenized_documents = [doc.lower().split() for doc in documents]\n",
        "\n",
        "# Menghitung TF\n",
        "def compute_tf(tokenized_doc):\n",
        "    tf_dict = {}\n",
        "    term_count = Counter(tokenized_doc)\n",
        "    total_terms = len(tokenized_doc)\n",
        "    for term, count in term_count.items():\n",
        "        tf_dict[term] = count / total_terms\n",
        "    return tf_dict\n",
        "\n",
        "tf_list = [compute_tf(doc) for doc in tokenized_documents]\n",
        "\n",
        "print(\"Term Frequency (TF):\")\n",
        "for idx, tf in enumerate(tf_list):\n",
        "    print(f\"Document {idx + 1} TF:\")\n",
        "    for term, score in tf.items():\n",
        "        print(f\"    {term}: {score:.4f}\")\n"
      ]
    },
    {
      "cell_type": "code",
      "execution_count": 25,
      "metadata": {
        "colab": {
          "base_uri": "https://localhost:8080/"
        },
        "id": "MGpZKYNgO-Ed",
        "outputId": "e96757a2-e9e2-4eb6-8404-d5a151c66894"
      },
      "outputs": [
        {
          "output_type": "stream",
          "name": "stdout",
          "text": [
            "\n",
            "Inverse Document Frequency (IDF):\n",
            "    fox: 1.0000\n",
            "    in: 1.0000\n",
            "    jumps: 1.0000\n",
            "    brown: 1.0000\n",
            "    the: 0.5945\n",
            "    quick: 1.0000\n",
            "    sleeps: 1.0000\n",
            "    over: 1.0000\n",
            "    sun: 1.0000\n",
            "    lazy: 0.5945\n",
            "    dog: 0.5945\n"
          ]
        }
      ],
      "source": [
        "# Menghitung IDF\n",
        "def compute_idf(tokenized_docs):\n",
        "    idf_dict = {}\n",
        "    total_docs = len(tokenized_docs)\n",
        "    all_terms = set(term for doc in tokenized_docs for term in doc)\n",
        "    for term in all_terms:\n",
        "        doc_containing_term = sum(1 for doc in tokenized_docs if term in doc)\n",
        "        idf_dict[term] = log(total_docs / (1 + doc_containing_term)) + 1\n",
        "    return idf_dict\n",
        "\n",
        "idf_dict = compute_idf(tokenized_documents)\n",
        "\n",
        "print(\"\\nInverse Document Frequency (IDF):\")\n",
        "for term, score in idf_dict.items():\n",
        "    print(f\"    {term}: {score:.4f}\")\n"
      ]
    },
    {
      "cell_type": "code",
      "execution_count": 26,
      "metadata": {
        "colab": {
          "base_uri": "https://localhost:8080/"
        },
        "id": "w36ZT0myY6-a",
        "outputId": "64f1a4a8-a264-4f08-f817-19f3308bb49d"
      },
      "outputs": [
        {
          "output_type": "stream",
          "name": "stdout",
          "text": [
            "\n",
            "TF-IDF:\n",
            "Document 1 TF-IDF:\n",
            "    the: 0.1321\n",
            "    quick: 0.1111\n",
            "    brown: 0.1111\n",
            "    fox: 0.1111\n",
            "    jumps: 0.1111\n",
            "    over: 0.1111\n",
            "    lazy: 0.0661\n",
            "    dog: 0.0661\n",
            "Document 2 TF-IDF:\n",
            "    the: 0.1699\n",
            "    lazy: 0.0849\n",
            "    dog: 0.0849\n",
            "    sleeps: 0.1429\n",
            "    in: 0.1429\n",
            "    sun: 0.1429\n"
          ]
        }
      ],
      "source": [
        "# Menghitung TF-IDF\n",
        "def compute_tfidf(tf_list, idf_dict):\n",
        "    tfidf_list = []\n",
        "    for tf in tf_list:\n",
        "        tfidf_dict = {}\n",
        "        for term, tf_value in tf.items():\n",
        "            tfidf_dict[term] = tf_value * idf_dict.get(term, 0)\n",
        "        tfidf_list.append(tfidf_dict)\n",
        "    return tfidf_list\n",
        "\n",
        "tfidf_list = compute_tfidf(tf_list, idf_dict)\n",
        "\n",
        "print(\"\\nTF-IDF:\")\n",
        "for idx, tfidf in enumerate(tfidf_list):\n",
        "    print(f\"Document {idx + 1} TF-IDF:\")\n",
        "    for term, score in tfidf.items():\n",
        "        print(f\"    {term}: {score:.4f}\")"
      ]
    },
    {
      "cell_type": "code",
      "execution_count": 27,
      "metadata": {
        "colab": {
          "base_uri": "https://localhost:8080/",
          "height": 35
        },
        "id": "aqqro1ifEA1H",
        "outputId": "7bb2c90f-64dd-493f-c45c-f15e927f4a77"
      },
      "outputs": [
        {
          "output_type": "execute_result",
          "data": {
            "text/plain": [
              "'!pip install numpy==1.23.5 gensim --quiet\\nimport os\\nos.kill(os.getpid(), 9)  # restart runtime\\n'"
            ],
            "application/vnd.google.colaboratory.intrinsic+json": {
              "type": "string"
            }
          },
          "metadata": {},
          "execution_count": 27
        }
      ],
      "source": [
        "\"\"\"!pip install numpy==1.23.5 gensim --quiet\n",
        "import os\n",
        "os.kill(os.getpid(), 9)  # restart runtime\n",
        "\"\"\""
      ]
    },
    {
      "cell_type": "code",
      "execution_count": 28,
      "metadata": {
        "colab": {
          "base_uri": "https://localhost:8080/"
        },
        "id": "g4KJeGi1jt-k",
        "outputId": "c053b6ab-7b4c-4663-b242-1be8411a1ef7"
      },
      "outputs": [
        {
          "output_type": "stream",
          "name": "stdout",
          "text": [
            "[array([-3.7941132e-03,  1.3971322e-03, -1.3302654e-03,  6.2948177e-03,\n",
            "        7.5669785e-04, -9.2515646e-04,  2.1088016e-03,  3.0837939e-03,\n",
            "       -5.7512512e-03,  7.2995876e-04,  2.0234017e-03, -3.2846206e-03,\n",
            "        3.2237857e-03,  1.2359056e-03,  2.3005011e-03,  3.6598212e-04,\n",
            "        1.4023911e-03, -2.5532098e-04, -4.4650156e-03, -6.0795713e-03,\n",
            "        5.1451474e-04,  3.5236333e-03,  1.8079006e-03, -4.1199704e-03,\n",
            "        6.4692814e-03, -2.5543815e-03, -6.6210038e-04,  2.7649710e-03,\n",
            "       -3.8000084e-03, -3.2158426e-03,  3.2123891e-03, -2.4683301e-03,\n",
            "        2.9981686e-03,  2.3309598e-03, -4.8931437e-03,  1.5661248e-03,\n",
            "        1.9759887e-03,  2.2294575e-03,  1.7812600e-03, -2.5453365e-03,\n",
            "       -3.2774555e-03,  4.1177375e-03, -3.2396559e-03, -8.4378332e-04,\n",
            "        6.1413378e-04,  1.2738556e-03, -2.2212872e-03,  4.2844247e-03,\n",
            "        1.2914615e-04,  3.0330098e-03, -1.0511086e-03,  2.5589571e-03,\n",
            "       -3.1917188e-03, -9.2208735e-04,  1.8518131e-03, -5.1541473e-03,\n",
            "        2.1000020e-04, -3.2290467e-03,  2.1339045e-04, -5.0833868e-04,\n",
            "       -1.7337782e-03, -1.5055528e-05,  5.7490687e-03, -2.3388765e-03,\n",
            "       -5.8347052e-03,  1.6641982e-03, -6.3794700e-04,  1.8560491e-03,\n",
            "       -4.4508721e-03,  1.6792074e-03,  6.8469113e-04,  5.0989017e-03,\n",
            "        1.1838634e-03, -2.3669056e-03, -1.2185939e-03, -9.5687888e-04,\n",
            "        3.1777052e-03, -2.1799130e-03, -1.9740169e-03, -2.5577894e-03,\n",
            "        7.7181699e-04, -3.9067743e-03,  5.6349323e-04,  3.8985133e-03,\n",
            "        6.9267780e-04, -2.0655359e-03, -1.4203853e-03, -4.5698918e-03,\n",
            "        2.3748321e-03,  4.1990890e-03, -4.2350721e-03,  3.9036442e-03,\n",
            "        4.8959982e-03,  5.1278749e-04,  9.3155345e-03,  2.8740233e-03,\n",
            "       -2.4156407e-03,  1.6063191e-03,  6.0992977e-03, -6.7504973e-04],\n",
            "      dtype=float32), array([-3.1660116e-04, -5.7360728e-04,  3.4673535e-03,  2.9384303e-03,\n",
            "       -3.1781017e-03, -2.6487841e-03,  4.4770492e-03,  2.9555499e-03,\n",
            "       -4.6320204e-03, -4.9666027e-03,  1.4394860e-03, -2.1942167e-03,\n",
            "       -2.7296182e-03,  2.1828935e-03, -1.8690284e-03, -2.6594457e-04,\n",
            "        3.5361922e-03,  1.9140609e-03, -3.8510119e-03, -5.9721973e-03,\n",
            "        3.7570950e-04,  8.3793385e-04,  6.8266382e-03, -1.8322930e-03,\n",
            "       -1.0782517e-04,  9.6010620e-04, -1.6764735e-03,  3.7027951e-04,\n",
            "       -2.8466750e-03,  3.1530459e-03,  1.6568592e-03, -3.6548096e-04,\n",
            "        5.3797930e-04, -4.9930951e-03, -1.5664482e-03,  2.1300865e-03,\n",
            "        1.7089294e-03, -9.3357329e-04,  2.3624119e-04, -1.0066100e-03,\n",
            "        4.8388890e-03, -3.4975833e-03, -3.5771988e-03, -2.1485901e-03,\n",
            "        1.6346521e-03,  1.6270357e-03, -3.3976554e-03,  5.3597230e-04,\n",
            "        2.1228106e-03,  1.5162760e-03, -1.3091275e-03, -4.7304039e-03,\n",
            "        8.7502098e-04,  1.6161120e-03, -3.1177888e-03,  1.3226175e-03,\n",
            "        2.4238126e-03, -2.5444315e-03, -3.5236478e-03,  1.5263890e-03,\n",
            "        1.2590722e-03, -9.1358821e-04,  6.0012861e-04, -2.1009571e-03,\n",
            "        9.1457291e-04,  4.5666182e-03, -1.5669598e-03,  1.4057572e-03,\n",
            "       -2.2669055e-03, -2.1723013e-03,  1.0567550e-03,  2.3563597e-03,\n",
            "        2.7811029e-03,  1.1346908e-03,  1.1144532e-03, -6.0354284e-04,\n",
            "        7.8778062e-04,  2.4543243e-04,  4.9715943e-04, -1.9853071e-03,\n",
            "       -6.9766014e-04, -1.3966036e-03,  6.7621935e-05, -7.1394711e-04,\n",
            "       -1.0648491e-03, -3.4579230e-03,  3.1035189e-03, -1.5473869e-04,\n",
            "       -7.4669348e-05,  5.9236784e-04,  2.2294249e-03,  7.9850730e-04,\n",
            "       -2.8633978e-03, -9.6349756e-04,  2.8260902e-03,  2.5969699e-03,\n",
            "        2.5293799e-04, -5.6794942e-03, -6.4898806e-04,  1.1047884e-03],\n",
            "      dtype=float32), array([-4.8886086e-03,  3.5039750e-03, -7.7875785e-04,  1.8327702e-03,\n",
            "        2.8310965e-03, -8.4005343e-04,  1.5664973e-03,  5.3411340e-03,\n",
            "       -2.8435146e-03, -8.0337387e-04,  1.0816536e-03, -7.4950047e-04,\n",
            "       -1.0158244e-03,  2.0649876e-03,  1.8932018e-03, -1.4124528e-03,\n",
            "        4.1107074e-03,  3.7477289e-03, -4.5725559e-03, -2.6592810e-03,\n",
            "        1.0079659e-03, -3.0011418e-03,  5.7382537e-03,  2.2392980e-04,\n",
            "        1.7109523e-03, -4.0588700e-04,  1.8895449e-03,  4.9559344e-03,\n",
            "       -4.4789063e-03,  1.5496218e-03,  3.0932941e-03, -2.8616129e-03,\n",
            "       -8.9650258e-04, -5.3802123e-03,  1.0595185e-03,  3.6437382e-04,\n",
            "        4.1663712e-03,  1.9754693e-04,  1.7004814e-04,  2.9627860e-03,\n",
            "       -4.1755283e-04, -3.8292556e-04, -4.4510579e-03,  1.6564869e-03,\n",
            "        2.8718815e-03,  1.6089901e-03,  1.1972254e-03,  6.3898379e-04,\n",
            "        7.5034087e-04,  1.0020491e-04,  1.8800143e-03, -6.4738101e-04,\n",
            "       -2.2086599e-03, -3.5301715e-03, -1.8199194e-03, -1.8922931e-03,\n",
            "        7.9608912e-04, -8.4452296e-04, -1.2318369e-03,  5.1952072e-04,\n",
            "       -1.3895672e-04, -2.8204668e-04,  1.9634087e-03, -2.3284864e-03,\n",
            "       -8.4588851e-04,  2.0960663e-03,  4.7375266e-03,  4.5012748e-03,\n",
            "       -1.7960712e-03,  2.8255624e-03,  1.1785168e-03,  1.3573562e-03,\n",
            "        7.8390742e-04,  2.5307271e-03,  2.3474311e-04,  8.7183417e-04,\n",
            "        4.5297836e-04,  3.2476373e-03,  3.0968030e-04, -3.9690202e-03,\n",
            "       -4.4543333e-03, -6.6444080e-04,  1.8685054e-03,  4.0941872e-05,\n",
            "       -2.3355759e-03, -3.3667530e-03,  3.7380219e-03, -2.9642743e-03,\n",
            "       -7.1543542e-04, -2.4188410e-03, -1.2159180e-03, -2.9230997e-04,\n",
            "        3.8672443e-03, -3.7120041e-03,  5.4381681e-03,  9.1900572e-04,\n",
            "        2.8784124e-03, -2.3098367e-03, -4.2288698e-04,  2.6859119e-04],\n",
            "      dtype=float32)]\n"
          ]
        }
      ],
      "source": [
        "from gensim.models import Word2Vec\n",
        "import numpy as np\n",
        "\n",
        "corpus = [\n",
        "    'Ini adalah dokumen pertama.',\n",
        "    'Dokumen kedua ini adalah contoh.',\n",
        "    'Dan ini adalah dokumen ketiga.'\n",
        "]\n",
        "\n",
        "sentences = [doc.split() for doc in corpus]\n",
        "model = Word2Vec(sentences, vector_size=100, window=5, min_count=1, workers=4)\n",
        "\n",
        "def document_vector(doc):\n",
        "    return np.mean([model.wv[word] for word in doc.split() if word in model.wv], axis=0)\n",
        "\n",
        "doc_vectors = [document_vector(doc) for doc in corpus]\n",
        "print(doc_vectors)\n"
      ]
    },
    {
      "cell_type": "markdown",
      "metadata": {
        "id": "1G6TqUQzwYrq"
      },
      "source": [
        "Klasifikasi teks dengan Machine Learning.\n",
        "This dataset is a collection newsgroup documents. The 20 newsgroups collection has become a popular data set for experiments in text applications of machine learning techniques, such as text classification and text clustering.\n"
      ]
    },
    {
      "cell_type": "code",
      "execution_count": 30,
      "metadata": {
        "colab": {
          "base_uri": "https://localhost:8080/"
        },
        "id": "2-IzwLWVwAih",
        "outputId": "4ffc4a8b-d1e1-4c4e-9a6c-e5c14e87ea53"
      },
      "outputs": [
        {
          "output_type": "stream",
          "name": "stdout",
          "text": [
            "Accuracy: 0.8425297113752123\n",
            "Classification Report:\n",
            "                          precision    recall  f1-score   support\n",
            "\n",
            "             alt.atheism       0.88      0.72      0.79       198\n",
            "           comp.graphics       0.86      0.79      0.82       245\n",
            " comp.os.ms-windows.misc       0.88      0.83      0.85       242\n",
            "comp.sys.ibm.pc.hardware       0.66      0.86      0.75       238\n",
            "   comp.sys.mac.hardware       0.95      0.84      0.89       250\n",
            "          comp.windows.x       0.96      0.80      0.87       260\n",
            "            misc.forsale       0.96      0.66      0.78       241\n",
            "               rec.autos       0.89      0.93      0.91       244\n",
            "         rec.motorcycles       0.91      0.95      0.93       219\n",
            "      rec.sport.baseball       0.96      0.94      0.95       261\n",
            "        rec.sport.hockey       0.90      0.98      0.94       245\n",
            "               sci.crypt       0.78      0.98      0.87       251\n",
            "         sci.electronics       0.92      0.80      0.86       249\n",
            "                 sci.med       0.97      0.88      0.92       249\n",
            "               sci.space       0.88      0.98      0.93       240\n",
            "  soc.religion.christian       0.49      0.99      0.66       245\n",
            "      talk.politics.guns       0.78      0.96      0.86       230\n",
            "   talk.politics.mideast       0.93      0.97      0.95       234\n",
            "      talk.politics.misc       1.00      0.57      0.73       207\n",
            "      talk.religion.misc       1.00      0.16      0.28       164\n",
            "\n",
            "                accuracy                           0.84      4712\n",
            "               macro avg       0.88      0.83      0.83      4712\n",
            "            weighted avg       0.88      0.84      0.84      4712\n",
            "\n",
            "Confusion Matrix:\n",
            "[[143   0   0   0   0   0   0   0   0   0   0   0   0   0   2  49   1   3\n",
            "    0   0]\n",
            " [  0 193   4  12   0   5   1   2   2   0   0   7   0   0   3  14   0   2\n",
            "    0   0]\n",
            " [  0   5 200  24   1   2   0   2   0   0   0   2   1   0   2   3   0   0\n",
            "    0   0]\n",
            " [  0   5   8 205   7   0   0   1   0   1   2   2   4   0   0   3   0   0\n",
            "    0   0]\n",
            " [  0   1   4  16 209   1   0   2   1   0   3   7   2   0   2   2   0   0\n",
            "    0   0]\n",
            " [  1  13   5   8   1 207   0   0   5   1   2   5   0   0   6   5   1   0\n",
            "    0   0]\n",
            " [  0   0   2  31   2   0 158  12   5   1   2  11   5   1   2   7   1   1\n",
            "    0   0]\n",
            " [  0   2   0   0   0   0   2 226   1   0   1   2   2   1   0   5   2   0\n",
            "    0   0]\n",
            " [  0   0   0   1   0   0   3   3 208   0   0   0   0   0   0   2   2   0\n",
            "    0   0]\n",
            " [  0   0   0   0   0   0   0   0   0 246  10   0   0   0   1   3   0   1\n",
            "    0   0]\n",
            " [  0   0   0   1   0   0   0   1   2   0 240   0   0   0   0   1   0   0\n",
            "    0   0]\n",
            " [  0   1   2   0   0   0   0   0   0   0   0 245   0   0   0   3   0   0\n",
            "    0   0]\n",
            " [  0   3   0  11   0   0   1   5   1   2   2  15 200   1   5   3   0   0\n",
            "    0   0]\n",
            " [  0   0   0   0   0   0   0   1   1   1   0   6   3 218   3  13   3   0\n",
            "    0   0]\n",
            " [  0   1   0   0   0   0   0   0   0   0   0   0   0   2 235   2   0   0\n",
            "    0   0]\n",
            " [  1   0   0   0   0   0   0   0   0   0   0   0   0   0   0 243   0   1\n",
            "    0   0]\n",
            " [  0   0   1   0   0   0   0   0   0   0   0   4   0   0   0   4 221   0\n",
            "    0   0]\n",
            " [  0   0   0   0   0   0   0   0   0   0   0   1   0   0   0   5   0 228\n",
            "    0   0]\n",
            " [  0   0   0   0   0   0   0   0   1   1   1   4   0   2   6  25  41   8\n",
            "  118   0]\n",
            " [ 17   0   0   0   0   0   0   0   2   2   3   2   0   0   0 100  10   1\n",
            "    0  27]]\n"
          ]
        }
      ],
      "source": [
        "import numpy as np\n",
        "import pandas as pd\n",
        "from sklearn.datasets import fetch_20newsgroups\n",
        "from sklearn.feature_extraction.text import TfidfVectorizer\n",
        "from sklearn.naive_bayes import MultinomialNB\n",
        "from sklearn.pipeline import make_pipeline\n",
        "from sklearn.model_selection import train_test_split\n",
        "from sklearn import metrics\n",
        "\n",
        "# 1. Mengumpulkan data\n",
        "newsgroups = fetch_20newsgroups(subset='all')\n",
        "\n",
        "# 2. Preprocessing data\n",
        "# Tidak perlu preprocessing khusus karena kita akan menggunakan TfidfVectorizer\n",
        "\n",
        "# 3. Membagi data menjadi training dan testing set\n",
        "X_train, X_test, y_train, y_test = train_test_split(newsgroups.data, newsgroups.target, test_size=0.25, random_state=42)\n",
        "\n",
        "# 4. Melatih model\n",
        "# Membuat pipeline yang mencakup TfidfVectorizer dan MultinomialNB\n",
        "model = make_pipeline(TfidfVectorizer(), MultinomialNB())\n",
        "\n",
        "# Melatih model menggunakan training set\n",
        "model.fit(X_train, y_train)\n",
        "\n",
        "# 5. Mengevaluasi model\n",
        "# Prediksi pada testing set\n",
        "y_pred = model.predict(X_test)\n",
        "\n",
        "# Evaluasi kinerja model\n",
        "print(f\"Accuracy: {metrics.accuracy_score(y_test, y_pred)}\")\n",
        "print(\"Classification Report:\")\n",
        "print(metrics.classification_report(y_test, y_pred, target_names=newsgroups.target_names))\n",
        "\n",
        "# Confusion Matrix\n",
        "print(\"Confusion Matrix:\")\n",
        "print(metrics.confusion_matrix(y_test, y_pred))\n"
      ]
    }
  ],
  "metadata": {
    "colab": {
      "provenance": []
    },
    "kernelspec": {
      "display_name": "base",
      "language": "python",
      "name": "python3"
    },
    "language_info": {
      "codemirror_mode": {
        "name": "ipython",
        "version": 3
      },
      "file_extension": ".py",
      "mimetype": "text/x-python",
      "name": "python",
      "nbconvert_exporter": "python",
      "pygments_lexer": "ipython3",
      "version": "3.11.7"
    }
  },
  "nbformat": 4,
  "nbformat_minor": 0
}